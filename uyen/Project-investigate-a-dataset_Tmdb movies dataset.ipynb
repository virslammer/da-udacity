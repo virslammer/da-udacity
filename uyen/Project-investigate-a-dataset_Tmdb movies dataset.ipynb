{
 "cells": [
  {
   "cell_type": "markdown",
   "metadata": {},
   "source": [
    "# Project: TMDb Movie Data Analysis\n",
    "\n",
    "## Table of Contents\n",
    "<ul>\n",
    "<li><a href=\"#intro\">Introduction</a></li>\n",
    "<li><a href=\"#wrangling\">Data Wrangling</a></li>\n",
    "<li><a href=\"#eda\">Exploratory Data Analysis</a></li>\n",
    "<li><a href=\"#conclusions\">Conclusions</a></li>\n",
    "</ul>"
   ]
  },
  {
   "cell_type": "markdown",
   "metadata": {},
   "source": [
    "<a id='intro'></a>\n",
    "## Introduction\n",
    "\n",
    "* This data set contains information about 10,000 movies collected from The Movie Database (TMDb), including user ratings and revenue\n",
    "<br> _(The final two columns ending with “_adj” show the budget and revenue of the associated movie in terms of 2010 dollars, accounting for inflation over)_."
   ]
  },
  {
   "cell_type": "code",
   "execution_count": 1,
   "metadata": {},
   "outputs": [],
   "source": [
    "import numpy as np\n",
    "import pandas as pd\n",
    "import matplotlib.pyplot as plt\n",
    "import seaborn as sns\n",
    "%matplotlib inline\n",
    "\n",
    "import warnings\n",
    "warnings.filterwarnings('ignore')"
   ]
  },
  {
   "cell_type": "markdown",
   "metadata": {},
   "source": [
    "<a id='wrangling'></a>\n",
    "## Data Wrangling\n",
    "\n",
    "\n",
    "### General Properties"
   ]
  },
  {
   "cell_type": "code",
   "execution_count": 2,
   "metadata": {
    "scrolled": false
   },
   "outputs": [
    {
     "data": {
      "text/html": [
       "<div>\n",
       "<style scoped>\n",
       "    .dataframe tbody tr th:only-of-type {\n",
       "        vertical-align: middle;\n",
       "    }\n",
       "\n",
       "    .dataframe tbody tr th {\n",
       "        vertical-align: top;\n",
       "    }\n",
       "\n",
       "    .dataframe thead th {\n",
       "        text-align: right;\n",
       "    }\n",
       "</style>\n",
       "<table border=\"1\" class=\"dataframe\">\n",
       "  <thead>\n",
       "    <tr style=\"text-align: right;\">\n",
       "      <th></th>\n",
       "      <th>id</th>\n",
       "      <th>imdb_id</th>\n",
       "      <th>popularity</th>\n",
       "      <th>budget</th>\n",
       "      <th>revenue</th>\n",
       "      <th>original_title</th>\n",
       "      <th>cast</th>\n",
       "      <th>homepage</th>\n",
       "      <th>director</th>\n",
       "      <th>tagline</th>\n",
       "      <th>...</th>\n",
       "      <th>overview</th>\n",
       "      <th>runtime</th>\n",
       "      <th>genres</th>\n",
       "      <th>production_companies</th>\n",
       "      <th>release_date</th>\n",
       "      <th>vote_count</th>\n",
       "      <th>vote_average</th>\n",
       "      <th>release_year</th>\n",
       "      <th>budget_adj</th>\n",
       "      <th>revenue_adj</th>\n",
       "    </tr>\n",
       "  </thead>\n",
       "  <tbody>\n",
       "    <tr>\n",
       "      <th>0</th>\n",
       "      <td>135397</td>\n",
       "      <td>tt0369610</td>\n",
       "      <td>32.985763</td>\n",
       "      <td>150000000</td>\n",
       "      <td>1513528810</td>\n",
       "      <td>Jurassic World</td>\n",
       "      <td>Chris Pratt|Bryce Dallas Howard|Irrfan Khan|Vi...</td>\n",
       "      <td>http://www.jurassicworld.com/</td>\n",
       "      <td>Colin Trevorrow</td>\n",
       "      <td>The park is open.</td>\n",
       "      <td>...</td>\n",
       "      <td>Twenty-two years after the events of Jurassic ...</td>\n",
       "      <td>124</td>\n",
       "      <td>Action|Adventure|Science Fiction|Thriller</td>\n",
       "      <td>Universal Studios|Amblin Entertainment|Legenda...</td>\n",
       "      <td>6/9/15</td>\n",
       "      <td>5562</td>\n",
       "      <td>6.5</td>\n",
       "      <td>2015</td>\n",
       "      <td>1.379999e+08</td>\n",
       "      <td>1.392446e+09</td>\n",
       "    </tr>\n",
       "    <tr>\n",
       "      <th>1</th>\n",
       "      <td>76341</td>\n",
       "      <td>tt1392190</td>\n",
       "      <td>28.419936</td>\n",
       "      <td>150000000</td>\n",
       "      <td>378436354</td>\n",
       "      <td>Mad Max: Fury Road</td>\n",
       "      <td>Tom Hardy|Charlize Theron|Hugh Keays-Byrne|Nic...</td>\n",
       "      <td>http://www.madmaxmovie.com/</td>\n",
       "      <td>George Miller</td>\n",
       "      <td>What a Lovely Day.</td>\n",
       "      <td>...</td>\n",
       "      <td>An apocalyptic story set in the furthest reach...</td>\n",
       "      <td>120</td>\n",
       "      <td>Action|Adventure|Science Fiction|Thriller</td>\n",
       "      <td>Village Roadshow Pictures|Kennedy Miller Produ...</td>\n",
       "      <td>5/13/15</td>\n",
       "      <td>6185</td>\n",
       "      <td>7.1</td>\n",
       "      <td>2015</td>\n",
       "      <td>1.379999e+08</td>\n",
       "      <td>3.481613e+08</td>\n",
       "    </tr>\n",
       "  </tbody>\n",
       "</table>\n",
       "<p>2 rows × 21 columns</p>\n",
       "</div>"
      ],
      "text/plain": [
       "       id    imdb_id  popularity     budget     revenue      original_title  \\\n",
       "0  135397  tt0369610   32.985763  150000000  1513528810      Jurassic World   \n",
       "1   76341  tt1392190   28.419936  150000000   378436354  Mad Max: Fury Road   \n",
       "\n",
       "                                                cast  \\\n",
       "0  Chris Pratt|Bryce Dallas Howard|Irrfan Khan|Vi...   \n",
       "1  Tom Hardy|Charlize Theron|Hugh Keays-Byrne|Nic...   \n",
       "\n",
       "                        homepage         director             tagline  ...  \\\n",
       "0  http://www.jurassicworld.com/  Colin Trevorrow   The park is open.  ...   \n",
       "1    http://www.madmaxmovie.com/    George Miller  What a Lovely Day.  ...   \n",
       "\n",
       "                                            overview runtime  \\\n",
       "0  Twenty-two years after the events of Jurassic ...     124   \n",
       "1  An apocalyptic story set in the furthest reach...     120   \n",
       "\n",
       "                                      genres  \\\n",
       "0  Action|Adventure|Science Fiction|Thriller   \n",
       "1  Action|Adventure|Science Fiction|Thriller   \n",
       "\n",
       "                                production_companies release_date vote_count  \\\n",
       "0  Universal Studios|Amblin Entertainment|Legenda...       6/9/15       5562   \n",
       "1  Village Roadshow Pictures|Kennedy Miller Produ...      5/13/15       6185   \n",
       "\n",
       "   vote_average  release_year    budget_adj   revenue_adj  \n",
       "0           6.5          2015  1.379999e+08  1.392446e+09  \n",
       "1           7.1          2015  1.379999e+08  3.481613e+08  \n",
       "\n",
       "[2 rows x 21 columns]"
      ]
     },
     "execution_count": 2,
     "metadata": {},
     "output_type": "execute_result"
    }
   ],
   "source": [
    "df = pd.read_csv('tmdb-movies.csv')\n",
    "df.head(2)"
   ]
  },
  {
   "cell_type": "code",
   "execution_count": 3,
   "metadata": {},
   "outputs": [
    {
     "data": {
      "text/plain": [
       "(10866, 21)"
      ]
     },
     "execution_count": 3,
     "metadata": {},
     "output_type": "execute_result"
    }
   ],
   "source": [
    "# Check number of rows and columns of initial dataset\n",
    "df.shape"
   ]
  },
  {
   "cell_type": "code",
   "execution_count": 4,
   "metadata": {},
   "outputs": [
    {
     "name": "stdout",
     "output_type": "stream",
     "text": [
      "<class 'pandas.core.frame.DataFrame'>\n",
      "RangeIndex: 10866 entries, 0 to 10865\n",
      "Data columns (total 21 columns):\n",
      " #   Column                Non-Null Count  Dtype  \n",
      "---  ------                --------------  -----  \n",
      " 0   id                    10866 non-null  int64  \n",
      " 1   imdb_id               10856 non-null  object \n",
      " 2   popularity            10866 non-null  float64\n",
      " 3   budget                10866 non-null  int64  \n",
      " 4   revenue               10866 non-null  int64  \n",
      " 5   original_title        10866 non-null  object \n",
      " 6   cast                  10790 non-null  object \n",
      " 7   homepage              2936 non-null   object \n",
      " 8   director              10822 non-null  object \n",
      " 9   tagline               8042 non-null   object \n",
      " 10  keywords              9373 non-null   object \n",
      " 11  overview              10862 non-null  object \n",
      " 12  runtime               10866 non-null  int64  \n",
      " 13  genres                10843 non-null  object \n",
      " 14  production_companies  9836 non-null   object \n",
      " 15  release_date          10866 non-null  object \n",
      " 16  vote_count            10866 non-null  int64  \n",
      " 17  vote_average          10866 non-null  float64\n",
      " 18  release_year          10866 non-null  int64  \n",
      " 19  budget_adj            10866 non-null  float64\n",
      " 20  revenue_adj           10866 non-null  float64\n",
      "dtypes: float64(4), int64(6), object(11)\n",
      "memory usage: 1.7+ MB\n"
     ]
    }
   ],
   "source": [
    "# Check value types and number of non-null values of each column\n",
    "df.info()"
   ]
  },
  {
   "cell_type": "markdown",
   "metadata": {},
   "source": [
    "> * There are some inappropriate columns in the dataset, which may not useful for analysis like id, imdb_id, original_title, cast, homepage, tagline, director, keywords, production_companies, release_date, overview. These columns should be dropped."
   ]
  },
  {
   "cell_type": "markdown",
   "metadata": {},
   "source": [
    "### Drop unnecessary columns"
   ]
  },
  {
   "cell_type": "code",
   "execution_count": 5,
   "metadata": {},
   "outputs": [
    {
     "data": {
      "text/plain": [
       "(10866, 10)"
      ]
     },
     "execution_count": 5,
     "metadata": {},
     "output_type": "execute_result"
    }
   ],
   "source": [
    "# drop unnecessary columns\n",
    "df.drop(columns =['id', 'imdb_id', 'original_title', 'cast', 'homepage', 'tagline', 'director',\n",
    "                  'keywords', 'production_companies', 'release_date', 'overview'], inplace=True)\n",
    "\n",
    "# check number of columns after drop columns\n",
    "df.shape"
   ]
  },
  {
   "cell_type": "code",
   "execution_count": 6,
   "metadata": {},
   "outputs": [
    {
     "data": {
      "text/plain": [
       "popularity       0\n",
       "budget           0\n",
       "revenue          0\n",
       "runtime          0\n",
       "genres          23\n",
       "vote_count       0\n",
       "vote_average     0\n",
       "release_year     0\n",
       "budget_adj       0\n",
       "revenue_adj      0\n",
       "dtype: int64"
      ]
     },
     "execution_count": 6,
     "metadata": {},
     "output_type": "execute_result"
    }
   ],
   "source": [
    "# check number of null value in columns\n",
    "df.isnull().sum()"
   ]
  },
  {
   "cell_type": "markdown",
   "metadata": {},
   "source": [
    "> * Genres column, which contains null value but is considered an analytical column. It should be removed some rows contains null values."
   ]
  },
  {
   "cell_type": "markdown",
   "metadata": {},
   "source": [
    "### Drop rows contains null values"
   ]
  },
  {
   "cell_type": "code",
   "execution_count": 7,
   "metadata": {},
   "outputs": [
    {
     "data": {
      "text/plain": [
       "False"
      ]
     },
     "execution_count": 7,
     "metadata": {},
     "output_type": "execute_result"
    }
   ],
   "source": [
    "# drop rows contain null value in genres column\n",
    "df = df[df['genres'].notna()]\n",
    "\n",
    "# checks if any of columns have null values - should print False\n",
    "df.isnull().sum().any()"
   ]
  },
  {
   "cell_type": "markdown",
   "metadata": {},
   "source": [
    "### Check duplicates and drop "
   ]
  },
  {
   "cell_type": "code",
   "execution_count": 8,
   "metadata": {},
   "outputs": [
    {
     "data": {
      "text/plain": [
       "1"
      ]
     },
     "execution_count": 8,
     "metadata": {},
     "output_type": "execute_result"
    }
   ],
   "source": [
    "#check if any duplicate in dataset\n",
    "df.duplicated().sum()"
   ]
  },
  {
   "cell_type": "code",
   "execution_count": 9,
   "metadata": {},
   "outputs": [
    {
     "data": {
      "text/plain": [
       "0"
      ]
     },
     "execution_count": 9,
     "metadata": {},
     "output_type": "execute_result"
    }
   ],
   "source": [
    "df.drop_duplicates(inplace=True)\n",
    "\n",
    "#check number of duplicates again to confirm dedupe\n",
    "df.duplicated().sum()"
   ]
  },
  {
   "cell_type": "code",
   "execution_count": 10,
   "metadata": {},
   "outputs": [
    {
     "data": {
      "text/plain": [
       "(10842, 10)"
      ]
     },
     "execution_count": 10,
     "metadata": {},
     "output_type": "execute_result"
    }
   ],
   "source": [
    "# check number of rows and columns after dedupe\n",
    "df.shape"
   ]
  },
  {
   "cell_type": "code",
   "execution_count": 11,
   "metadata": {},
   "outputs": [
    {
     "data": {
      "text/html": [
       "<div>\n",
       "<style scoped>\n",
       "    .dataframe tbody tr th:only-of-type {\n",
       "        vertical-align: middle;\n",
       "    }\n",
       "\n",
       "    .dataframe tbody tr th {\n",
       "        vertical-align: top;\n",
       "    }\n",
       "\n",
       "    .dataframe thead th {\n",
       "        text-align: right;\n",
       "    }\n",
       "</style>\n",
       "<table border=\"1\" class=\"dataframe\">\n",
       "  <thead>\n",
       "    <tr style=\"text-align: right;\">\n",
       "      <th></th>\n",
       "      <th>popularity</th>\n",
       "      <th>budget</th>\n",
       "      <th>revenue</th>\n",
       "      <th>runtime</th>\n",
       "      <th>vote_count</th>\n",
       "      <th>vote_average</th>\n",
       "      <th>release_year</th>\n",
       "      <th>budget_adj</th>\n",
       "      <th>revenue_adj</th>\n",
       "    </tr>\n",
       "  </thead>\n",
       "  <tbody>\n",
       "    <tr>\n",
       "      <th>count</th>\n",
       "      <td>10842.000000</td>\n",
       "      <td>1.084200e+04</td>\n",
       "      <td>1.084200e+04</td>\n",
       "      <td>10842.000000</td>\n",
       "      <td>10842.000000</td>\n",
       "      <td>10842.000000</td>\n",
       "      <td>10842.000000</td>\n",
       "      <td>1.084200e+04</td>\n",
       "      <td>1.084200e+04</td>\n",
       "    </tr>\n",
       "    <tr>\n",
       "      <th>mean</th>\n",
       "      <td>0.647461</td>\n",
       "      <td>1.465531e+07</td>\n",
       "      <td>3.991138e+07</td>\n",
       "      <td>102.138443</td>\n",
       "      <td>217.823649</td>\n",
       "      <td>5.974064</td>\n",
       "      <td>2001.314794</td>\n",
       "      <td>1.758712e+07</td>\n",
       "      <td>5.147797e+07</td>\n",
       "    </tr>\n",
       "    <tr>\n",
       "      <th>std</th>\n",
       "      <td>1.001032</td>\n",
       "      <td>3.093971e+07</td>\n",
       "      <td>1.171179e+08</td>\n",
       "      <td>31.294612</td>\n",
       "      <td>576.180993</td>\n",
       "      <td>0.934257</td>\n",
       "      <td>12.813617</td>\n",
       "      <td>3.433437e+07</td>\n",
       "      <td>1.447723e+08</td>\n",
       "    </tr>\n",
       "    <tr>\n",
       "      <th>min</th>\n",
       "      <td>0.000065</td>\n",
       "      <td>0.000000e+00</td>\n",
       "      <td>0.000000e+00</td>\n",
       "      <td>0.000000</td>\n",
       "      <td>10.000000</td>\n",
       "      <td>1.500000</td>\n",
       "      <td>1960.000000</td>\n",
       "      <td>0.000000e+00</td>\n",
       "      <td>0.000000e+00</td>\n",
       "    </tr>\n",
       "    <tr>\n",
       "      <th>25%</th>\n",
       "      <td>0.208210</td>\n",
       "      <td>0.000000e+00</td>\n",
       "      <td>0.000000e+00</td>\n",
       "      <td>90.000000</td>\n",
       "      <td>17.000000</td>\n",
       "      <td>5.400000</td>\n",
       "      <td>1995.000000</td>\n",
       "      <td>0.000000e+00</td>\n",
       "      <td>0.000000e+00</td>\n",
       "    </tr>\n",
       "    <tr>\n",
       "      <th>50%</th>\n",
       "      <td>0.384532</td>\n",
       "      <td>0.000000e+00</td>\n",
       "      <td>0.000000e+00</td>\n",
       "      <td>99.000000</td>\n",
       "      <td>38.000000</td>\n",
       "      <td>6.000000</td>\n",
       "      <td>2006.000000</td>\n",
       "      <td>0.000000e+00</td>\n",
       "      <td>0.000000e+00</td>\n",
       "    </tr>\n",
       "    <tr>\n",
       "      <th>75%</th>\n",
       "      <td>0.715393</td>\n",
       "      <td>1.500000e+07</td>\n",
       "      <td>2.414118e+07</td>\n",
       "      <td>111.000000</td>\n",
       "      <td>146.000000</td>\n",
       "      <td>6.600000</td>\n",
       "      <td>2011.000000</td>\n",
       "      <td>2.092507e+07</td>\n",
       "      <td>3.387838e+07</td>\n",
       "    </tr>\n",
       "    <tr>\n",
       "      <th>max</th>\n",
       "      <td>32.985763</td>\n",
       "      <td>4.250000e+08</td>\n",
       "      <td>2.781506e+09</td>\n",
       "      <td>900.000000</td>\n",
       "      <td>9767.000000</td>\n",
       "      <td>9.200000</td>\n",
       "      <td>2015.000000</td>\n",
       "      <td>4.250000e+08</td>\n",
       "      <td>2.827124e+09</td>\n",
       "    </tr>\n",
       "  </tbody>\n",
       "</table>\n",
       "</div>"
      ],
      "text/plain": [
       "         popularity        budget       revenue       runtime    vote_count  \\\n",
       "count  10842.000000  1.084200e+04  1.084200e+04  10842.000000  10842.000000   \n",
       "mean       0.647461  1.465531e+07  3.991138e+07    102.138443    217.823649   \n",
       "std        1.001032  3.093971e+07  1.171179e+08     31.294612    576.180993   \n",
       "min        0.000065  0.000000e+00  0.000000e+00      0.000000     10.000000   \n",
       "25%        0.208210  0.000000e+00  0.000000e+00     90.000000     17.000000   \n",
       "50%        0.384532  0.000000e+00  0.000000e+00     99.000000     38.000000   \n",
       "75%        0.715393  1.500000e+07  2.414118e+07    111.000000    146.000000   \n",
       "max       32.985763  4.250000e+08  2.781506e+09    900.000000   9767.000000   \n",
       "\n",
       "       vote_average  release_year    budget_adj   revenue_adj  \n",
       "count  10842.000000  10842.000000  1.084200e+04  1.084200e+04  \n",
       "mean       5.974064   2001.314794  1.758712e+07  5.147797e+07  \n",
       "std        0.934257     12.813617  3.433437e+07  1.447723e+08  \n",
       "min        1.500000   1960.000000  0.000000e+00  0.000000e+00  \n",
       "25%        5.400000   1995.000000  0.000000e+00  0.000000e+00  \n",
       "50%        6.000000   2006.000000  0.000000e+00  0.000000e+00  \n",
       "75%        6.600000   2011.000000  2.092507e+07  3.387838e+07  \n",
       "max        9.200000   2015.000000  4.250000e+08  2.827124e+09  "
      ]
     },
     "execution_count": 11,
     "metadata": {},
     "output_type": "execute_result"
    }
   ],
   "source": [
    "# Check numeric column statistics\n",
    "df.describe()"
   ]
  },
  {
   "cell_type": "markdown",
   "metadata": {},
   "source": [
    "> * There are movies with budget 0, revenue 0 or runtime 0, which is abnormal. These case should be removed from dataset."
   ]
  },
  {
   "cell_type": "markdown",
   "metadata": {},
   "source": [
    "### Remove rows with invalid value"
   ]
  },
  {
   "cell_type": "code",
   "execution_count": 12,
   "metadata": {},
   "outputs": [
    {
     "data": {
      "text/plain": [
       "(3854, 10)"
      ]
     },
     "execution_count": 12,
     "metadata": {},
     "output_type": "execute_result"
    }
   ],
   "source": [
    "# create df with only rows has budget=0 or revenue=0 or runtime=0\n",
    "df_abnormal = df.query('budget==0 or revenue==0 or runtime==0')\n",
    "\n",
    "#drop rows in df by index of df contains abnormal cases\n",
    "df.drop(df_abnormal.index, axis=0, inplace=True)\n",
    "df.shape"
   ]
  },
  {
   "cell_type": "code",
   "execution_count": 13,
   "metadata": {
    "scrolled": true
   },
   "outputs": [
    {
     "name": "stdout",
     "output_type": "stream",
     "text": [
      "<class 'pandas.core.frame.DataFrame'>\n",
      "Int64Index: 3854 entries, 0 to 10848\n",
      "Data columns (total 10 columns):\n",
      " #   Column        Non-Null Count  Dtype  \n",
      "---  ------        --------------  -----  \n",
      " 0   popularity    3854 non-null   float64\n",
      " 1   budget        3854 non-null   int64  \n",
      " 2   revenue       3854 non-null   int64  \n",
      " 3   runtime       3854 non-null   int64  \n",
      " 4   genres        3854 non-null   object \n",
      " 5   vote_count    3854 non-null   int64  \n",
      " 6   vote_average  3854 non-null   float64\n",
      " 7   release_year  3854 non-null   int64  \n",
      " 8   budget_adj    3854 non-null   float64\n",
      " 9   revenue_adj   3854 non-null   float64\n",
      "dtypes: float64(4), int64(5), object(1)\n",
      "memory usage: 331.2+ KB\n"
     ]
    }
   ],
   "source": [
    "df.info()"
   ]
  },
  {
   "cell_type": "markdown",
   "metadata": {},
   "source": [
    "> * Now, dataset has 3854 non-null rows and 10 columns for analysis. All columns also has appropriate data types."
   ]
  },
  {
   "cell_type": "markdown",
   "metadata": {},
   "source": [
    "### Check unique values"
   ]
  },
  {
   "cell_type": "code",
   "execution_count": 14,
   "metadata": {},
   "outputs": [
    {
     "data": {
      "text/plain": [
       "popularity      3852\n",
       "budget           407\n",
       "revenue         3753\n",
       "runtime          139\n",
       "genres          1053\n",
       "vote_count      1274\n",
       "vote_average      53\n",
       "release_year      56\n",
       "budget_adj      2096\n",
       "revenue_adj     3848\n",
       "dtype: int64"
      ]
     },
     "execution_count": 14,
     "metadata": {},
     "output_type": "execute_result"
    }
   ],
   "source": [
    "#check number of unique value of each columns\n",
    "df.nunique()"
   ]
  },
  {
   "cell_type": "markdown",
   "metadata": {},
   "source": [
    "### Numeric columns statistics and values distribution"
   ]
  },
  {
   "cell_type": "code",
   "execution_count": 15,
   "metadata": {},
   "outputs": [
    {
     "data": {
      "text/plain": [
       "[]"
      ]
     },
     "execution_count": 15,
     "metadata": {},
     "output_type": "execute_result"
    },
    {
     "data": {
      "image/png": "[encoded data removed]",
      "text/plain": [
       "<Figure size 576x576 with 9 Axes>"
      ]
     },
     "metadata": {
      "needs_background": "light"
     },
     "output_type": "display_data"
    }
   ],
   "source": [
    "df.hist(figsize=(8,8))\n",
    "plt.plot()"
   ]
  },
  {
   "cell_type": "code",
   "execution_count": 16,
   "metadata": {},
   "outputs": [
    {
     "data": {
      "text/html": [
       "<div>\n",
       "<style scoped>\n",
       "    .dataframe tbody tr th:only-of-type {\n",
       "        vertical-align: middle;\n",
       "    }\n",
       "\n",
       "    .dataframe tbody tr th {\n",
       "        vertical-align: top;\n",
       "    }\n",
       "\n",
       "    .dataframe thead th {\n",
       "        text-align: right;\n",
       "    }\n",
       "</style>\n",
       "<table border=\"1\" class=\"dataframe\">\n",
       "  <thead>\n",
       "    <tr style=\"text-align: right;\">\n",
       "      <th></th>\n",
       "      <th>popularity</th>\n",
       "      <th>budget</th>\n",
       "      <th>revenue</th>\n",
       "      <th>runtime</th>\n",
       "      <th>vote_count</th>\n",
       "      <th>vote_average</th>\n",
       "      <th>release_year</th>\n",
       "      <th>budget_adj</th>\n",
       "      <th>revenue_adj</th>\n",
       "    </tr>\n",
       "  </thead>\n",
       "  <tbody>\n",
       "    <tr>\n",
       "      <th>count</th>\n",
       "      <td>3854.000000</td>\n",
       "      <td>3.854000e+03</td>\n",
       "      <td>3.854000e+03</td>\n",
       "      <td>3854.000000</td>\n",
       "      <td>3854.000000</td>\n",
       "      <td>3854.000000</td>\n",
       "      <td>3854.000000</td>\n",
       "      <td>3.854000e+03</td>\n",
       "      <td>3.854000e+03</td>\n",
       "    </tr>\n",
       "    <tr>\n",
       "      <th>mean</th>\n",
       "      <td>1.191554</td>\n",
       "      <td>3.720370e+07</td>\n",
       "      <td>1.076866e+08</td>\n",
       "      <td>109.220291</td>\n",
       "      <td>527.720291</td>\n",
       "      <td>6.168163</td>\n",
       "      <td>2001.261028</td>\n",
       "      <td>4.423999e+07</td>\n",
       "      <td>1.370647e+08</td>\n",
       "    </tr>\n",
       "    <tr>\n",
       "      <th>std</th>\n",
       "      <td>1.475162</td>\n",
       "      <td>4.220822e+07</td>\n",
       "      <td>1.765393e+08</td>\n",
       "      <td>19.922820</td>\n",
       "      <td>879.956821</td>\n",
       "      <td>0.794920</td>\n",
       "      <td>11.282575</td>\n",
       "      <td>4.480925e+07</td>\n",
       "      <td>2.161114e+08</td>\n",
       "    </tr>\n",
       "    <tr>\n",
       "      <th>min</th>\n",
       "      <td>0.001117</td>\n",
       "      <td>1.000000e+00</td>\n",
       "      <td>2.000000e+00</td>\n",
       "      <td>15.000000</td>\n",
       "      <td>10.000000</td>\n",
       "      <td>2.200000</td>\n",
       "      <td>1960.000000</td>\n",
       "      <td>9.693980e-01</td>\n",
       "      <td>2.370705e+00</td>\n",
       "    </tr>\n",
       "    <tr>\n",
       "      <th>25%</th>\n",
       "      <td>0.462367</td>\n",
       "      <td>1.000000e+07</td>\n",
       "      <td>1.360003e+07</td>\n",
       "      <td>95.000000</td>\n",
       "      <td>71.000000</td>\n",
       "      <td>5.700000</td>\n",
       "      <td>1995.000000</td>\n",
       "      <td>1.309053e+07</td>\n",
       "      <td>1.835735e+07</td>\n",
       "    </tr>\n",
       "    <tr>\n",
       "      <th>50%</th>\n",
       "      <td>0.797511</td>\n",
       "      <td>2.400000e+07</td>\n",
       "      <td>4.480000e+07</td>\n",
       "      <td>106.000000</td>\n",
       "      <td>204.000000</td>\n",
       "      <td>6.200000</td>\n",
       "      <td>2004.000000</td>\n",
       "      <td>3.001611e+07</td>\n",
       "      <td>6.173068e+07</td>\n",
       "    </tr>\n",
       "    <tr>\n",
       "      <th>75%</th>\n",
       "      <td>1.368324</td>\n",
       "      <td>5.000000e+07</td>\n",
       "      <td>1.242125e+08</td>\n",
       "      <td>119.000000</td>\n",
       "      <td>580.000000</td>\n",
       "      <td>6.700000</td>\n",
       "      <td>2010.000000</td>\n",
       "      <td>6.061307e+07</td>\n",
       "      <td>1.632577e+08</td>\n",
       "    </tr>\n",
       "    <tr>\n",
       "      <th>max</th>\n",
       "      <td>32.985763</td>\n",
       "      <td>4.250000e+08</td>\n",
       "      <td>2.781506e+09</td>\n",
       "      <td>338.000000</td>\n",
       "      <td>9767.000000</td>\n",
       "      <td>8.400000</td>\n",
       "      <td>2015.000000</td>\n",
       "      <td>4.250000e+08</td>\n",
       "      <td>2.827124e+09</td>\n",
       "    </tr>\n",
       "  </tbody>\n",
       "</table>\n",
       "</div>"
      ],
      "text/plain": [
       "        popularity        budget       revenue      runtime   vote_count  \\\n",
       "count  3854.000000  3.854000e+03  3.854000e+03  3854.000000  3854.000000   \n",
       "mean      1.191554  3.720370e+07  1.076866e+08   109.220291   527.720291   \n",
       "std       1.475162  4.220822e+07  1.765393e+08    19.922820   879.956821   \n",
       "min       0.001117  1.000000e+00  2.000000e+00    15.000000    10.000000   \n",
       "25%       0.462367  1.000000e+07  1.360003e+07    95.000000    71.000000   \n",
       "50%       0.797511  2.400000e+07  4.480000e+07   106.000000   204.000000   \n",
       "75%       1.368324  5.000000e+07  1.242125e+08   119.000000   580.000000   \n",
       "max      32.985763  4.250000e+08  2.781506e+09   338.000000  9767.000000   \n",
       "\n",
       "       vote_average  release_year    budget_adj   revenue_adj  \n",
       "count   3854.000000   3854.000000  3.854000e+03  3.854000e+03  \n",
       "mean       6.168163   2001.261028  4.423999e+07  1.370647e+08  \n",
       "std        0.794920     11.282575  4.480925e+07  2.161114e+08  \n",
       "min        2.200000   1960.000000  9.693980e-01  2.370705e+00  \n",
       "25%        5.700000   1995.000000  1.309053e+07  1.835735e+07  \n",
       "50%        6.200000   2004.000000  3.001611e+07  6.173068e+07  \n",
       "75%        6.700000   2010.000000  6.061307e+07  1.632577e+08  \n",
       "max        8.400000   2015.000000  4.250000e+08  2.827124e+09  "
      ]
     },
     "execution_count": 16,
     "metadata": {},
     "output_type": "execute_result"
    }
   ],
   "source": [
    "df.describe()"
   ]
  },
  {
   "cell_type": "code",
   "execution_count": 17,
   "metadata": {},
   "outputs": [
    {
     "data": {
      "text/plain": [
       "popularity      7.487815\n",
       "budget          2.381736\n",
       "revenue         4.274010\n",
       "runtime         1.625449\n",
       "vote_count      3.788627\n",
       "vote_average   -0.282213\n",
       "release_year   -1.153330\n",
       "budget_adj      1.964175\n",
       "revenue_adj     4.046393\n",
       "dtype: float64"
      ]
     },
     "execution_count": 17,
     "metadata": {},
     "output_type": "execute_result"
    }
   ],
   "source": [
    "df.skew(axis=0, skipna=True)"
   ]
  },
  {
   "cell_type": "markdown",
   "metadata": {},
   "source": [
    "> * Average popularity is 1.19, while max popularity is 32.9. Popularity values is mostly from 0 to 1.5.\n",
    "> * Average budget is 37.2 mil; but max is 425 mil. Values range mostly from 1  to 50 mil.\n",
    "> * While average revenue is 107 mil; but max is 2.7 bil. Values range mostly from 13.6 mil to 124 mil.\n",
    "> * Average runtime is 109 min; but max is 338 min. Runtime values mostly range from 95-119 min.\n",
    "> * Average vote_count is 528 times, max is 9767 times. Almost values range from 71-590 times.\n",
    "> * Average vote is 6.1, max is 8.4. Main range is 5.7-6.7.\n",
    "> * All movies of this cleaned dataset were released from 1960 to 2015.\n",
    "> * Almost of column value distribution is much right skew. Except for vote_average is left skew."
   ]
  },
  {
   "cell_type": "markdown",
   "metadata": {},
   "source": [
    "<a id='eda'></a>\n",
    "## Exploratory Data Analysis"
   ]
  },
  {
   "cell_type": "markdown",
   "metadata": {},
   "source": [
    "###  Which genres are most popular from year to year? \n",
    "> * Genres column contain multiple values separated by pipe (|) characters. So as to easily analyze for this question, should split each row into multiple rows correspond with multiple values."
   ]
  },
  {
   "cell_type": "code",
   "execution_count": 18,
   "metadata": {},
   "outputs": [
    {
     "data": {
      "text/html": [
       "<div>\n",
       "<style scoped>\n",
       "    .dataframe tbody tr th:only-of-type {\n",
       "        vertical-align: middle;\n",
       "    }\n",
       "\n",
       "    .dataframe tbody tr th {\n",
       "        vertical-align: top;\n",
       "    }\n",
       "\n",
       "    .dataframe thead th {\n",
       "        text-align: right;\n",
       "    }\n",
       "</style>\n",
       "<table border=\"1\" class=\"dataframe\">\n",
       "  <thead>\n",
       "    <tr style=\"text-align: right;\">\n",
       "      <th></th>\n",
       "      <th>genres</th>\n",
       "      <th>popularity</th>\n",
       "      <th>release_year</th>\n",
       "    </tr>\n",
       "  </thead>\n",
       "  <tbody>\n",
       "    <tr>\n",
       "      <th>0</th>\n",
       "      <td>Action|Adventure|Science Fiction|Thriller</td>\n",
       "      <td>32.985763</td>\n",
       "      <td>2015</td>\n",
       "    </tr>\n",
       "    <tr>\n",
       "      <th>1</th>\n",
       "      <td>Action|Adventure|Science Fiction|Thriller</td>\n",
       "      <td>28.419936</td>\n",
       "      <td>2015</td>\n",
       "    </tr>\n",
       "    <tr>\n",
       "      <th>2</th>\n",
       "      <td>Adventure|Science Fiction|Thriller</td>\n",
       "      <td>13.112507</td>\n",
       "      <td>2015</td>\n",
       "    </tr>\n",
       "  </tbody>\n",
       "</table>\n",
       "</div>"
      ],
      "text/plain": [
       "                                      genres  popularity  release_year\n",
       "0  Action|Adventure|Science Fiction|Thriller   32.985763          2015\n",
       "1  Action|Adventure|Science Fiction|Thriller   28.419936          2015\n",
       "2         Adventure|Science Fiction|Thriller   13.112507          2015"
      ]
     },
     "execution_count": 18,
     "metadata": {},
     "output_type": "execute_result"
    }
   ],
   "source": [
    "# Work on a sub df only contains popularity, genres, release_year columns\n",
    "df_popularity = df[['genres','popularity','release_year']]\n",
    "df_popularity.head(3)"
   ]
  },
  {
   "cell_type": "code",
   "execution_count": 19,
   "metadata": {},
   "outputs": [],
   "source": [
    "# create function to split each row into multiple rows correspond to multiple values\n",
    "def split_row(df, col_names, seperater):\n",
    "    dataframe = df[col_names].str.split(seperater, expand=True).stack().reset_index(level=0)\n",
    "    dataframe = dataframe.set_index('level_0').rename(columns={0:col_names})\n",
    "    dataframe = dataframe.join(df.drop(col_names, axis=1))\n",
    "    return dataframe"
   ]
  },
  {
   "cell_type": "code",
   "execution_count": 20,
   "metadata": {},
   "outputs": [
    {
     "data": {
      "text/html": [
       "<div>\n",
       "<style scoped>\n",
       "    .dataframe tbody tr th:only-of-type {\n",
       "        vertical-align: middle;\n",
       "    }\n",
       "\n",
       "    .dataframe tbody tr th {\n",
       "        vertical-align: top;\n",
       "    }\n",
       "\n",
       "    .dataframe thead th {\n",
       "        text-align: right;\n",
       "    }\n",
       "</style>\n",
       "<table border=\"1\" class=\"dataframe\">\n",
       "  <thead>\n",
       "    <tr style=\"text-align: right;\">\n",
       "      <th></th>\n",
       "      <th>genres</th>\n",
       "      <th>popularity</th>\n",
       "      <th>release_year</th>\n",
       "    </tr>\n",
       "  </thead>\n",
       "  <tbody>\n",
       "    <tr>\n",
       "      <th>0</th>\n",
       "      <td>Action</td>\n",
       "      <td>32.985763</td>\n",
       "      <td>2015</td>\n",
       "    </tr>\n",
       "    <tr>\n",
       "      <th>0</th>\n",
       "      <td>Adventure</td>\n",
       "      <td>32.985763</td>\n",
       "      <td>2015</td>\n",
       "    </tr>\n",
       "    <tr>\n",
       "      <th>0</th>\n",
       "      <td>Science Fiction</td>\n",
       "      <td>32.985763</td>\n",
       "      <td>2015</td>\n",
       "    </tr>\n",
       "    <tr>\n",
       "      <th>0</th>\n",
       "      <td>Thriller</td>\n",
       "      <td>32.985763</td>\n",
       "      <td>2015</td>\n",
       "    </tr>\n",
       "    <tr>\n",
       "      <th>1</th>\n",
       "      <td>Action</td>\n",
       "      <td>28.419936</td>\n",
       "      <td>2015</td>\n",
       "    </tr>\n",
       "    <tr>\n",
       "      <th>1</th>\n",
       "      <td>Adventure</td>\n",
       "      <td>28.419936</td>\n",
       "      <td>2015</td>\n",
       "    </tr>\n",
       "  </tbody>\n",
       "</table>\n",
       "</div>"
      ],
      "text/plain": [
       "            genres  popularity  release_year\n",
       "0           Action   32.985763          2015\n",
       "0        Adventure   32.985763          2015\n",
       "0  Science Fiction   32.985763          2015\n",
       "0         Thriller   32.985763          2015\n",
       "1           Action   28.419936          2015\n",
       "1        Adventure   28.419936          2015"
      ]
     },
     "execution_count": 20,
     "metadata": {},
     "output_type": "execute_result"
    }
   ],
   "source": [
    "# Use split_row function to split each line into multiple lines correspond to multiple genres values\n",
    "df_popularity_split = split_row(df_popularity, 'genres', '|')\n",
    "df_popularity_split.head(6)"
   ]
  },
  {
   "cell_type": "code",
   "execution_count": 21,
   "metadata": {},
   "outputs": [],
   "source": [
    "# create function to groupby and get mean value of specific column\n",
    "def groupby_mean_value(df, groupby_cols, mean_col):\n",
    "    dataframe = df.groupby(groupby_cols)[mean_col].mean()\n",
    "    dataframe = dataframe.reset_index(name=mean_col)\n",
    "    return dataframe"
   ]
  },
  {
   "cell_type": "code",
   "execution_count": 22,
   "metadata": {},
   "outputs": [
    {
     "data": {
      "text/html": [
       "<div>\n",
       "<style scoped>\n",
       "    .dataframe tbody tr th:only-of-type {\n",
       "        vertical-align: middle;\n",
       "    }\n",
       "\n",
       "    .dataframe tbody tr th {\n",
       "        vertical-align: top;\n",
       "    }\n",
       "\n",
       "    .dataframe thead th {\n",
       "        text-align: right;\n",
       "    }\n",
       "</style>\n",
       "<table border=\"1\" class=\"dataframe\">\n",
       "  <thead>\n",
       "    <tr style=\"text-align: right;\">\n",
       "      <th></th>\n",
       "      <th>genres</th>\n",
       "      <th>release_year</th>\n",
       "      <th>popularity</th>\n",
       "    </tr>\n",
       "  </thead>\n",
       "  <tbody>\n",
       "    <tr>\n",
       "      <th>0</th>\n",
       "      <td>Action</td>\n",
       "      <td>1960</td>\n",
       "      <td>1.504538</td>\n",
       "    </tr>\n",
       "    <tr>\n",
       "      <th>1</th>\n",
       "      <td>Action</td>\n",
       "      <td>1961</td>\n",
       "      <td>0.464139</td>\n",
       "    </tr>\n",
       "    <tr>\n",
       "      <th>2</th>\n",
       "      <td>Action</td>\n",
       "      <td>1962</td>\n",
       "      <td>1.848380</td>\n",
       "    </tr>\n",
       "    <tr>\n",
       "      <th>3</th>\n",
       "      <td>Action</td>\n",
       "      <td>1963</td>\n",
       "      <td>1.357698</td>\n",
       "    </tr>\n",
       "    <tr>\n",
       "      <th>4</th>\n",
       "      <td>Action</td>\n",
       "      <td>1964</td>\n",
       "      <td>3.153791</td>\n",
       "    </tr>\n",
       "  </tbody>\n",
       "</table>\n",
       "</div>"
      ],
      "text/plain": [
       "   genres  release_year  popularity\n",
       "0  Action          1960    1.504538\n",
       "1  Action          1961    0.464139\n",
       "2  Action          1962    1.848380\n",
       "3  Action          1963    1.357698\n",
       "4  Action          1964    3.153791"
      ]
     },
     "execution_count": 22,
     "metadata": {},
     "output_type": "execute_result"
    }
   ],
   "source": [
    "# Use groupby_mean_value to groupby to get the mean popularity for each genres by year\n",
    "df_popularity_mean = groupby_mean_value(df_popularity_split, ['genres','release_year'], 'popularity')\n",
    "df_popularity_mean.head()"
   ]
  },
  {
   "cell_type": "code",
   "execution_count": 23,
   "metadata": {},
   "outputs": [],
   "source": [
    "# create function to create dataframe with rows contains highest value of a specific column by group of other columns\n",
    "def create_df_highest_value_by_group(df, group_cols, highest_value_col):\n",
    "    highest_value_col_max = highest_value_col+'_max'\n",
    "    df[highest_value_col_max] = df.groupby(group_cols)[highest_value_col].transform(max)\n",
    "    dataframe = df.loc[df[highest_value_col] == df[highest_value_col_max]]\n",
    "    dataframe = dataframe.sort_values(by=group_cols, ascending=True).reset_index().drop(columns =['index',highest_value_col_max])\n",
    "    return dataframe"
   ]
  },
  {
   "cell_type": "code",
   "execution_count": 24,
   "metadata": {},
   "outputs": [
    {
     "data": {
      "text/html": [
       "<div>\n",
       "<style scoped>\n",
       "    .dataframe tbody tr th:only-of-type {\n",
       "        vertical-align: middle;\n",
       "    }\n",
       "\n",
       "    .dataframe tbody tr th {\n",
       "        vertical-align: top;\n",
       "    }\n",
       "\n",
       "    .dataframe thead th {\n",
       "        text-align: right;\n",
       "    }\n",
       "</style>\n",
       "<table border=\"1\" class=\"dataframe\">\n",
       "  <thead>\n",
       "    <tr style=\"text-align: right;\">\n",
       "      <th></th>\n",
       "      <th>genres</th>\n",
       "      <th>release_year</th>\n",
       "      <th>popularity</th>\n",
       "    </tr>\n",
       "  </thead>\n",
       "  <tbody>\n",
       "    <tr>\n",
       "      <th>0</th>\n",
       "      <td>Thriller</td>\n",
       "      <td>1960</td>\n",
       "      <td>2.610362</td>\n",
       "    </tr>\n",
       "    <tr>\n",
       "      <th>1</th>\n",
       "      <td>Horror</td>\n",
       "      <td>1960</td>\n",
       "      <td>2.610362</td>\n",
       "    </tr>\n",
       "    <tr>\n",
       "      <th>2</th>\n",
       "      <td>Animation</td>\n",
       "      <td>1961</td>\n",
       "      <td>2.631987</td>\n",
       "    </tr>\n",
       "    <tr>\n",
       "      <th>3</th>\n",
       "      <td>Thriller</td>\n",
       "      <td>1962</td>\n",
       "      <td>3.170651</td>\n",
       "    </tr>\n",
       "    <tr>\n",
       "      <th>4</th>\n",
       "      <td>Adventure</td>\n",
       "      <td>1963</td>\n",
       "      <td>1.586280</td>\n",
       "    </tr>\n",
       "  </tbody>\n",
       "</table>\n",
       "</div>"
      ],
      "text/plain": [
       "      genres  release_year  popularity\n",
       "0   Thriller          1960    2.610362\n",
       "1     Horror          1960    2.610362\n",
       "2  Animation          1961    2.631987\n",
       "3   Thriller          1962    3.170651\n",
       "4  Adventure          1963    1.586280"
      ]
     },
     "execution_count": 24,
     "metadata": {},
     "output_type": "execute_result"
    }
   ],
   "source": [
    "# use function create_df_highest_value_by_group to select most popularity of each year\n",
    "df_popularity_most = create_df_highest_value_by_group(df_popularity_mean, ['release_year'], 'popularity')\n",
    "df_popularity_most.head()"
   ]
  },
  {
   "cell_type": "code",
   "execution_count": 25,
   "metadata": {},
   "outputs": [
    {
     "data": {
      "image/png": "[encoded data removed]",
      "text/plain": [
       "<Figure size 432x288 with 1 Axes>"
      ]
     },
     "metadata": {
      "needs_background": "light"
     },
     "output_type": "display_data"
    }
   ],
   "source": [
    "# Use scatter plot to show change in the most popularity genres each year\n",
    "df_popularity_most.plot(x=\"release_year\", y=\"genres\", kind=\"scatter\");\n",
    "plt.title('Most popularity genres by year')\n",
    "plt.xlabel('')\n",
    "plt.ylabel('');\n",
    "plt.show()"
   ]
  },
  {
   "cell_type": "markdown",
   "metadata": {},
   "source": [
    "> * Most popularity genres changed over year, but some genres remain the most popularity during several years continously. Animations is the most popularity in the 1990s, after that the one is Fantasy in the first decade of 2000 millenium."
   ]
  },
  {
   "cell_type": "code",
   "execution_count": 26,
   "metadata": {},
   "outputs": [
    {
     "data": {
      "image/png": "[encoded data removed]",
      "text/plain": [
       "<Figure size 360x360 with 1 Axes>"
      ]
     },
     "metadata": {},
     "output_type": "display_data"
    }
   ],
   "source": [
    "# use pie chart to show proportions of each genres\n",
    "df_popularity_most['genres'].value_counts().plot.pie(autopct='%0.1f%%', figsize = (5,5))\n",
    "plt.title('Proportion of most popularity genres during 1960-2015')\n",
    "plt.ylabel('')\n",
    "plt.show()"
   ]
  },
  {
   "cell_type": "markdown",
   "metadata": {},
   "source": [
    "> * During 1960-2015, Animation is the most popularity genres, come after that Fantasy and Adventure is among 3 most general genres chosen by voter."
   ]
  },
  {
   "cell_type": "markdown",
   "metadata": {},
   "source": [
    "### What genres are the highest revenue over year? Any different from the highest vote genres?"
   ]
  },
  {
   "cell_type": "code",
   "execution_count": 27,
   "metadata": {},
   "outputs": [
    {
     "data": {
      "text/html": [
       "<div>\n",
       "<style scoped>\n",
       "    .dataframe tbody tr th:only-of-type {\n",
       "        vertical-align: middle;\n",
       "    }\n",
       "\n",
       "    .dataframe tbody tr th {\n",
       "        vertical-align: top;\n",
       "    }\n",
       "\n",
       "    .dataframe thead th {\n",
       "        text-align: right;\n",
       "    }\n",
       "</style>\n",
       "<table border=\"1\" class=\"dataframe\">\n",
       "  <thead>\n",
       "    <tr style=\"text-align: right;\">\n",
       "      <th></th>\n",
       "      <th>genres</th>\n",
       "      <th>release_year</th>\n",
       "      <th>revenue</th>\n",
       "    </tr>\n",
       "  </thead>\n",
       "  <tbody>\n",
       "    <tr>\n",
       "      <th>0</th>\n",
       "      <td>History</td>\n",
       "      <td>1960</td>\n",
       "      <td>60000000.0</td>\n",
       "    </tr>\n",
       "    <tr>\n",
       "      <th>1</th>\n",
       "      <td>Animation</td>\n",
       "      <td>1961</td>\n",
       "      <td>215880014.0</td>\n",
       "    </tr>\n",
       "    <tr>\n",
       "      <th>2</th>\n",
       "      <td>History</td>\n",
       "      <td>1962</td>\n",
       "      <td>70000000.0</td>\n",
       "    </tr>\n",
       "    <tr>\n",
       "      <th>3</th>\n",
       "      <td>War</td>\n",
       "      <td>1962</td>\n",
       "      <td>70000000.0</td>\n",
       "    </tr>\n",
       "    <tr>\n",
       "      <th>4</th>\n",
       "      <td>Action</td>\n",
       "      <td>1963</td>\n",
       "      <td>44449382.5</td>\n",
       "    </tr>\n",
       "  </tbody>\n",
       "</table>\n",
       "</div>"
      ],
      "text/plain": [
       "      genres  release_year      revenue\n",
       "0    History          1960   60000000.0\n",
       "1  Animation          1961  215880014.0\n",
       "2    History          1962   70000000.0\n",
       "3        War          1962   70000000.0\n",
       "4     Action          1963   44449382.5"
      ]
     },
     "execution_count": 27,
     "metadata": {},
     "output_type": "execute_result"
    }
   ],
   "source": [
    "# Work on a sub df only contains revenue, genres, release_year columns\n",
    "df_revenue = df[['genres','revenue','release_year']]\n",
    "\n",
    "# Use split_row function to split each line into multiple lines correspond to multiple genres values\n",
    "df_revenue_split = split_row(df_revenue, 'genres', '|')\n",
    "\n",
    "# Use groupby_mean_value functionn to groupby to get the mean revenue for each genres by year\n",
    "df_revenue_mean = groupby_mean_value(df_revenue_split, ['genres','release_year'], 'revenue')\n",
    "\n",
    "# use function create_df_highest_value_by_group to select highest revenue of each year\n",
    "df_revenue_highest = create_df_highest_value_by_group(df_revenue_mean, ['release_year'], 'revenue')\n",
    "df_revenue_highest.head()"
   ]
  },
  {
   "cell_type": "code",
   "execution_count": 28,
   "metadata": {},
   "outputs": [
    {
     "data": {
      "text/html": [
       "<div>\n",
       "<style scoped>\n",
       "    .dataframe tbody tr th:only-of-type {\n",
       "        vertical-align: middle;\n",
       "    }\n",
       "\n",
       "    .dataframe tbody tr th {\n",
       "        vertical-align: top;\n",
       "    }\n",
       "\n",
       "    .dataframe thead th {\n",
       "        text-align: right;\n",
       "    }\n",
       "</style>\n",
       "<table border=\"1\" class=\"dataframe\">\n",
       "  <thead>\n",
       "    <tr style=\"text-align: right;\">\n",
       "      <th></th>\n",
       "      <th>genres</th>\n",
       "      <th>release_year</th>\n",
       "      <th>vote_average</th>\n",
       "    </tr>\n",
       "  </thead>\n",
       "  <tbody>\n",
       "    <tr>\n",
       "      <th>0</th>\n",
       "      <td>Horror</td>\n",
       "      <td>1960</td>\n",
       "      <td>8.0</td>\n",
       "    </tr>\n",
       "    <tr>\n",
       "      <th>1</th>\n",
       "      <td>Thriller</td>\n",
       "      <td>1960</td>\n",
       "      <td>8.0</td>\n",
       "    </tr>\n",
       "    <tr>\n",
       "      <th>2</th>\n",
       "      <td>Romance</td>\n",
       "      <td>1961</td>\n",
       "      <td>7.4</td>\n",
       "    </tr>\n",
       "    <tr>\n",
       "      <th>3</th>\n",
       "      <td>Crime</td>\n",
       "      <td>1962</td>\n",
       "      <td>7.7</td>\n",
       "    </tr>\n",
       "    <tr>\n",
       "      <th>4</th>\n",
       "      <td>Mystery</td>\n",
       "      <td>1963</td>\n",
       "      <td>7.5</td>\n",
       "    </tr>\n",
       "  </tbody>\n",
       "</table>\n",
       "</div>"
      ],
      "text/plain": [
       "     genres  release_year  vote_average\n",
       "0    Horror          1960           8.0\n",
       "1  Thriller          1960           8.0\n",
       "2   Romance          1961           7.4\n",
       "3     Crime          1962           7.7\n",
       "4   Mystery          1963           7.5"
      ]
     },
     "execution_count": 28,
     "metadata": {},
     "output_type": "execute_result"
    }
   ],
   "source": [
    "# Work on a sub df only contains vote_average, genres, release_year columns\n",
    "df_vote = df[['genres','vote_average','release_year']]\n",
    "\n",
    "# Use split_row function to split each line into multiple lines correspond to multiple genres values\n",
    "df_vote_split = split_row(df_vote, 'genres', '|')\n",
    "\n",
    "# Use groupby_mean_value functionn to groupby to get the mean vote_average for each genres by year\n",
    "df_vote_mean = groupby_mean_value(df_vote_split, ['genres','release_year'], 'vote_average')\n",
    "\n",
    "# use function create_df_highest_value_by_group to select highest vote_average of each year\n",
    "df_vote_highest = create_df_highest_value_by_group(df_vote_mean, ['release_year'], 'vote_average')\n",
    "df_vote_highest.head()"
   ]
  },
  {
   "cell_type": "code",
   "execution_count": 29,
   "metadata": {},
   "outputs": [
    {
     "data": {
      "image/png": "[encoded data removed]",
      "text/plain": [
       "<Figure size 432x288 with 1 Axes>"
      ]
     },
     "metadata": {
      "needs_background": "light"
     },
     "output_type": "display_data"
    }
   ],
   "source": [
    "# Use scatter plot to show change in the highest revenue genres and highest vote genres each year\n",
    "fig = plt.figure()\n",
    "ax1 = fig.add_subplot(111)\n",
    "\n",
    "ax1.scatter(df_revenue_highest.release_year, df_revenue_highest.genres, s=10, c='b', marker=\"s\", label='highest revenue')\n",
    "ax1.scatter(df_vote_highest.release_year, df_vote_highest.genres, s=10, c='r', marker=\"o\", label='highest vote')\n",
    "plt.legend(loc='upper right', bbox_to_anchor=(1.5, 1));\n",
    "plt.title('Genres with highest revenue and highest vote during 1960-2015')\n",
    "plt.show()"
   ]
  },
  {
   "cell_type": "markdown",
   "metadata": {},
   "source": [
    "> * Highest revenue genres change over year, but there is no or a little change in some periods. Adventure is the highest revenue genre in 2000s, then the one is Fantasy in the middle of 2000s. After that Animation and Adventure are the highest revenue genres in the late 2000s and in the begining of 2010s.\n",
    "> * Highest vote genres also change over year during 1960-2015. Just a few genres is the highest vote and the highest revenue genre of the same year. In most year, highest vote genre and highest revenue genre are not the same.  Suprisingly, Documentary is the highest one continuously in several year of 2000s."
   ]
  },
  {
   "cell_type": "code",
   "execution_count": 30,
   "metadata": {},
   "outputs": [
    {
     "data": {
      "image/png": "[encoded data removed]",
      "text/plain": [
       "<Figure size 720x720 with 2 Axes>"
      ]
     },
     "metadata": {},
     "output_type": "display_data"
    }
   ],
   "source": [
    "# use pie chart to show proportions of each genres\n",
    "fig, (ax1,ax2) = plt.subplots(1,2,figsize=(10,10)) #ax1,ax2 refer to your two pies\n",
    "\n",
    "# 1,2 denotes 1 row, 2 columns - if you want to stack vertically, it would be 2,1\n",
    "\n",
    "value1 = df_revenue_highest['genres'].value_counts().to_frame()\n",
    "ax1.pie(value1.genres, labels=value1.index, autopct='%0.1f%%') #plot first pie\n",
    "ax1.set_title('Proportion of highest revenue genres')\n",
    "\n",
    "value2 = df_vote_highest['genres'].value_counts().to_frame()\n",
    "ax2.pie(value2.genres, labels=value2.index, autopct='%0.1f%%') #plot second pie\n",
    "ax2.set_title('Proportion of highest vote genres')\n",
    "\n",
    "plt.show()"
   ]
  },
  {
   "cell_type": "markdown",
   "metadata": {},
   "source": [
    "> * Animation, Adventure and Fantasy account for the large proportion of the highest revenue genres in 1960-2015. While Documentary, War and Animation contribute mostly of the percentage over year of the highest vote genres."
   ]
  },
  {
   "cell_type": "markdown",
   "metadata": {},
   "source": [
    "### How number of vote, revenue and budget changes over time?"
   ]
  },
  {
   "cell_type": "code",
   "execution_count": 31,
   "metadata": {},
   "outputs": [
    {
     "data": {
      "text/html": [
       "<div>\n",
       "<style scoped>\n",
       "    .dataframe tbody tr th:only-of-type {\n",
       "        vertical-align: middle;\n",
       "    }\n",
       "\n",
       "    .dataframe tbody tr th {\n",
       "        vertical-align: top;\n",
       "    }\n",
       "\n",
       "    .dataframe thead th {\n",
       "        text-align: right;\n",
       "    }\n",
       "</style>\n",
       "<table border=\"1\" class=\"dataframe\">\n",
       "  <thead>\n",
       "    <tr style=\"text-align: right;\">\n",
       "      <th></th>\n",
       "      <th>popularity</th>\n",
       "      <th>budget</th>\n",
       "      <th>revenue</th>\n",
       "      <th>runtime</th>\n",
       "      <th>genres</th>\n",
       "      <th>vote_count</th>\n",
       "      <th>vote_average</th>\n",
       "      <th>release_year</th>\n",
       "      <th>budget_adj</th>\n",
       "      <th>revenue_adj</th>\n",
       "      <th>decade</th>\n",
       "    </tr>\n",
       "  </thead>\n",
       "  <tbody>\n",
       "    <tr>\n",
       "      <th>0</th>\n",
       "      <td>32.985763</td>\n",
       "      <td>150000000</td>\n",
       "      <td>1513528810</td>\n",
       "      <td>124</td>\n",
       "      <td>Action|Adventure|Science Fiction|Thriller</td>\n",
       "      <td>5562</td>\n",
       "      <td>6.5</td>\n",
       "      <td>2015</td>\n",
       "      <td>1.379999e+08</td>\n",
       "      <td>1.392446e+09</td>\n",
       "      <td>2010s</td>\n",
       "    </tr>\n",
       "    <tr>\n",
       "      <th>1</th>\n",
       "      <td>28.419936</td>\n",
       "      <td>150000000</td>\n",
       "      <td>378436354</td>\n",
       "      <td>120</td>\n",
       "      <td>Action|Adventure|Science Fiction|Thriller</td>\n",
       "      <td>6185</td>\n",
       "      <td>7.1</td>\n",
       "      <td>2015</td>\n",
       "      <td>1.379999e+08</td>\n",
       "      <td>3.481613e+08</td>\n",
       "      <td>2010s</td>\n",
       "    </tr>\n",
       "  </tbody>\n",
       "</table>\n",
       "</div>"
      ],
      "text/plain": [
       "   popularity     budget     revenue  runtime  \\\n",
       "0   32.985763  150000000  1513528810      124   \n",
       "1   28.419936  150000000   378436354      120   \n",
       "\n",
       "                                      genres  vote_count  vote_average  \\\n",
       "0  Action|Adventure|Science Fiction|Thriller        5562           6.5   \n",
       "1  Action|Adventure|Science Fiction|Thriller        6185           7.1   \n",
       "\n",
       "   release_year    budget_adj   revenue_adj decade  \n",
       "0          2015  1.379999e+08  1.392446e+09  2010s  \n",
       "1          2015  1.379999e+08  3.481613e+08  2010s  "
      ]
     },
     "execution_count": 31,
     "metadata": {},
     "output_type": "execute_result"
    }
   ],
   "source": [
    "# add column decade\n",
    "bin_edges = [1960, 1970, 1980, 1990, 2000, 2010, 2015]\n",
    "bin_names = ['1960s', '1970s', '1980s', '1990s', '2000s', '2010s']\n",
    "df['decade'] = pd.cut(df['release_year'], bin_edges, labels=bin_names)\n",
    "df.head(2)"
   ]
  },
  {
   "cell_type": "code",
   "execution_count": 32,
   "metadata": {},
   "outputs": [
    {
     "data": {
      "image/png": "[encoded data removed]",
      "text/plain": [
       "<Figure size 432x288 with 1 Axes>"
      ]
     },
     "metadata": {
      "needs_background": "light"
     },
     "output_type": "display_data"
    }
   ],
   "source": [
    "# Draw the bar chart for the change of the vote count\n",
    "vote_count = df.groupby(['decade']).vote_count.mean()\n",
    "\n",
    "plt.bar(vote_count.index, vote_count.values)\n",
    "plt.title('Average vote count between decades')\n",
    "plt.xlabel('Decade')\n",
    "plt.ylabel('Vote count')\n",
    "\n",
    "plt.show()"
   ]
  },
  {
   "cell_type": "markdown",
   "metadata": {},
   "source": [
    "> * Overall, vote count highly increase for movies released from 1960s-2010s. For those movies released in 1960s-1990s, the number of vote fluctuate a lot. As it rise in 11960s-1970s then decrease in 1980s, after that increase steadily."
   ]
  },
  {
   "cell_type": "code",
   "execution_count": 33,
   "metadata": {
    "scrolled": true
   },
   "outputs": [
    {
     "data": {
      "image/png": "[encoded data removed]",
      "text/plain": [
       "<Figure size 432x288 with 1 Axes>"
      ]
     },
     "metadata": {
      "needs_background": "light"
     },
     "output_type": "display_data"
    }
   ],
   "source": [
    "# Draw the bar chart for the change of the vote count\n",
    "budget = df.groupby(['decade']).budget.mean()\n",
    "revenue = df.groupby(['decade']).revenue.mean()\n",
    "\n",
    "ind = np.arange(len(budget))  # the x locations for the groups\n",
    "width = 0.35       # the width of the bars\n",
    "\n",
    "# plot bars\n",
    "budget_bars = plt.bar(ind, budget, width, color='r', alpha=.6, label='Budget')\n",
    "revenue_bars = plt.bar(ind + width, revenue, width, color='b', alpha=.6, label='Revenue')\n",
    "\n",
    "# title and labels\n",
    "plt.ylabel('Proportion')\n",
    "plt.xlabel('Decade')\n",
    "plt.title('Proportion of Budget and Revenue by Decade')\n",
    "locations = ind + width / 2  # xtick locations\n",
    "labels =  ['1960s', '1970s', '1980s', '1990s', '2000s', '2010s']  # xtick labels\n",
    "plt.xticks(locations, labels)\n",
    "\n",
    "# legend\n",
    "plt.legend(loc='upper right', bbox_to_anchor=(1.3, 1))\n",
    "plt.show()"
   ]
  },
  {
   "cell_type": "markdown",
   "metadata": {},
   "source": [
    "> * Budget and revenue overall increase fom year to year. While budget steadily increase by year, revenue slightly decrease in 1980s."
   ]
  },
  {
   "cell_type": "markdown",
   "metadata": {},
   "source": [
    "### What kinds of properties are associated with movies that have high revenues?"
   ]
  },
  {
   "cell_type": "code",
   "execution_count": 34,
   "metadata": {},
   "outputs": [
    {
     "data": {
      "text/plain": [
       "count    3.854000e+03\n",
       "mean     1.076866e+08\n",
       "std      1.765393e+08\n",
       "min      2.000000e+00\n",
       "25%      1.360003e+07\n",
       "50%      4.480000e+07\n",
       "75%      1.242125e+08\n",
       "max      2.781506e+09\n",
       "Name: revenue, dtype: float64"
      ]
     },
     "execution_count": 34,
     "metadata": {},
     "output_type": "execute_result"
    }
   ],
   "source": [
    "df.revenue.describe()"
   ]
  },
  {
   "cell_type": "markdown",
   "metadata": {},
   "source": [
    "> * Consider that movies, which had revenue higher than 75th percentile revenues, are the high revenue movies."
   ]
  },
  {
   "cell_type": "code",
   "execution_count": 35,
   "metadata": {
    "scrolled": false
   },
   "outputs": [
    {
     "data": {
      "text/html": [
       "<div>\n",
       "<style scoped>\n",
       "    .dataframe tbody tr th:only-of-type {\n",
       "        vertical-align: middle;\n",
       "    }\n",
       "\n",
       "    .dataframe tbody tr th {\n",
       "        vertical-align: top;\n",
       "    }\n",
       "\n",
       "    .dataframe thead th {\n",
       "        text-align: right;\n",
       "    }\n",
       "</style>\n",
       "<table border=\"1\" class=\"dataframe\">\n",
       "  <thead>\n",
       "    <tr style=\"text-align: right;\">\n",
       "      <th></th>\n",
       "      <th>popularity</th>\n",
       "      <th>budget</th>\n",
       "      <th>revenue</th>\n",
       "      <th>runtime</th>\n",
       "      <th>vote_count</th>\n",
       "      <th>vote_average</th>\n",
       "      <th>release_year</th>\n",
       "      <th>budget_adj</th>\n",
       "      <th>revenue_adj</th>\n",
       "    </tr>\n",
       "  </thead>\n",
       "  <tbody>\n",
       "    <tr>\n",
       "      <th>count</th>\n",
       "      <td>964.000000</td>\n",
       "      <td>9.640000e+02</td>\n",
       "      <td>9.640000e+02</td>\n",
       "      <td>964.000000</td>\n",
       "      <td>964.000000</td>\n",
       "      <td>964.000000</td>\n",
       "      <td>964.000000</td>\n",
       "      <td>9.640000e+02</td>\n",
       "      <td>9.640000e+02</td>\n",
       "    </tr>\n",
       "    <tr>\n",
       "      <th>mean</th>\n",
       "      <td>2.322729</td>\n",
       "      <td>7.903702e+07</td>\n",
       "      <td>3.197611e+08</td>\n",
       "      <td>116.188797</td>\n",
       "      <td>1348.751037</td>\n",
       "      <td>6.402178</td>\n",
       "      <td>2003.652490</td>\n",
       "      <td>8.797132e+07</td>\n",
       "      <td>3.845190e+08</td>\n",
       "    </tr>\n",
       "    <tr>\n",
       "      <th>std</th>\n",
       "      <td>2.321547</td>\n",
       "      <td>5.578593e+07</td>\n",
       "      <td>2.473609e+08</td>\n",
       "      <td>21.468895</td>\n",
       "      <td>1326.016459</td>\n",
       "      <td>0.704064</td>\n",
       "      <td>9.210281</td>\n",
       "      <td>5.523180e+07</td>\n",
       "      <td>3.014625e+08</td>\n",
       "    </tr>\n",
       "    <tr>\n",
       "      <th>min</th>\n",
       "      <td>0.131526</td>\n",
       "      <td>1.500000e+04</td>\n",
       "      <td>1.242721e+08</td>\n",
       "      <td>72.000000</td>\n",
       "      <td>14.000000</td>\n",
       "      <td>4.200000</td>\n",
       "      <td>1961.000000</td>\n",
       "      <td>1.577503e+04</td>\n",
       "      <td>1.161215e+08</td>\n",
       "    </tr>\n",
       "    <tr>\n",
       "      <th>25%</th>\n",
       "      <td>1.136057</td>\n",
       "      <td>3.700000e+07</td>\n",
       "      <td>1.653347e+08</td>\n",
       "      <td>100.000000</td>\n",
       "      <td>466.750000</td>\n",
       "      <td>5.900000</td>\n",
       "      <td>1998.000000</td>\n",
       "      <td>4.497495e+07</td>\n",
       "      <td>1.959012e+08</td>\n",
       "    </tr>\n",
       "    <tr>\n",
       "      <th>50%</th>\n",
       "      <td>1.725160</td>\n",
       "      <td>6.700000e+07</td>\n",
       "      <td>2.321503e+08</td>\n",
       "      <td>114.000000</td>\n",
       "      <td>871.500000</td>\n",
       "      <td>6.400000</td>\n",
       "      <td>2006.000000</td>\n",
       "      <td>7.793032e+07</td>\n",
       "      <td>2.839529e+08</td>\n",
       "    </tr>\n",
       "    <tr>\n",
       "      <th>75%</th>\n",
       "      <td>2.687781</td>\n",
       "      <td>1.100000e+08</td>\n",
       "      <td>3.682613e+08</td>\n",
       "      <td>129.250000</td>\n",
       "      <td>1757.500000</td>\n",
       "      <td>6.900000</td>\n",
       "      <td>2011.000000</td>\n",
       "      <td>1.208081e+08</td>\n",
       "      <td>4.659600e+08</td>\n",
       "    </tr>\n",
       "    <tr>\n",
       "      <th>max</th>\n",
       "      <td>32.985763</td>\n",
       "      <td>3.800000e+08</td>\n",
       "      <td>2.781506e+09</td>\n",
       "      <td>201.000000</td>\n",
       "      <td>9767.000000</td>\n",
       "      <td>8.300000</td>\n",
       "      <td>2015.000000</td>\n",
       "      <td>3.683713e+08</td>\n",
       "      <td>2.827124e+09</td>\n",
       "    </tr>\n",
       "  </tbody>\n",
       "</table>\n",
       "</div>"
      ],
      "text/plain": [
       "       popularity        budget       revenue     runtime   vote_count  \\\n",
       "count  964.000000  9.640000e+02  9.640000e+02  964.000000   964.000000   \n",
       "mean     2.322729  7.903702e+07  3.197611e+08  116.188797  1348.751037   \n",
       "std      2.321547  5.578593e+07  2.473609e+08   21.468895  1326.016459   \n",
       "min      0.131526  1.500000e+04  1.242721e+08   72.000000    14.000000   \n",
       "25%      1.136057  3.700000e+07  1.653347e+08  100.000000   466.750000   \n",
       "50%      1.725160  6.700000e+07  2.321503e+08  114.000000   871.500000   \n",
       "75%      2.687781  1.100000e+08  3.682613e+08  129.250000  1757.500000   \n",
       "max     32.985763  3.800000e+08  2.781506e+09  201.000000  9767.000000   \n",
       "\n",
       "       vote_average  release_year    budget_adj   revenue_adj  \n",
       "count    964.000000    964.000000  9.640000e+02  9.640000e+02  \n",
       "mean       6.402178   2003.652490  8.797132e+07  3.845190e+08  \n",
       "std        0.704064      9.210281  5.523180e+07  3.014625e+08  \n",
       "min        4.200000   1961.000000  1.577503e+04  1.161215e+08  \n",
       "25%        5.900000   1998.000000  4.497495e+07  1.959012e+08  \n",
       "50%        6.400000   2006.000000  7.793032e+07  2.839529e+08  \n",
       "75%        6.900000   2011.000000  1.208081e+08  4.659600e+08  \n",
       "max        8.300000   2015.000000  3.683713e+08  2.827124e+09  "
      ]
     },
     "execution_count": 35,
     "metadata": {},
     "output_type": "execute_result"
    }
   ],
   "source": [
    "# create df with only movies with high revenue\n",
    "df_high_revenue = df.query('revenue > revenue.quantile(0.75)')\n",
    "df_high_revenue.describe()"
   ]
  },
  {
   "cell_type": "code",
   "execution_count": 36,
   "metadata": {},
   "outputs": [
    {
     "data": {
      "text/html": [
       "<style type=\"text/css\">\n",
       "#T_68919_row0_col0, #T_68919_row1_col1, #T_68919_row2_col2, #T_68919_row3_col3, #T_68919_row4_col4, #T_68919_row5_col5 {\n",
       "  background-color: #b40426;\n",
       "  color: #f1f1f1;\n",
       "}\n",
       "#T_68919_row0_col1 {\n",
       "  background-color: #b7cff9;\n",
       "  color: #000000;\n",
       "}\n",
       "#T_68919_row0_col2, #T_68919_row4_col0 {\n",
       "  background-color: #edd1c2;\n",
       "  color: #000000;\n",
       "}\n",
       "#T_68919_row0_col3 {\n",
       "  background-color: #445acc;\n",
       "  color: #f1f1f1;\n",
       "}\n",
       "#T_68919_row0_col4 {\n",
       "  background-color: #e3d9d3;\n",
       "  color: #000000;\n",
       "}\n",
       "#T_68919_row0_col5 {\n",
       "  background-color: #a6c4fe;\n",
       "  color: #000000;\n",
       "}\n",
       "#T_68919_row1_col0 {\n",
       "  background-color: #b1cbfc;\n",
       "  color: #000000;\n",
       "}\n",
       "#T_68919_row1_col2 {\n",
       "  background-color: #abc8fd;\n",
       "  color: #000000;\n",
       "}\n",
       "#T_68919_row1_col3, #T_68919_row2_col3, #T_68919_row2_col5, #T_68919_row3_col0, #T_68919_row3_col1, #T_68919_row3_col4, #T_68919_row5_col2 {\n",
       "  background-color: #3b4cc0;\n",
       "  color: #f1f1f1;\n",
       "}\n",
       "#T_68919_row1_col4 {\n",
       "  background-color: #ead5c9;\n",
       "  color: #000000;\n",
       "}\n",
       "#T_68919_row1_col5 {\n",
       "  background-color: #c1d4f4;\n",
       "  color: #000000;\n",
       "}\n",
       "#T_68919_row2_col0 {\n",
       "  background-color: #c4d5f3;\n",
       "  color: #000000;\n",
       "}\n",
       "#T_68919_row2_col1 {\n",
       "  background-color: #5f7fe8;\n",
       "  color: #f1f1f1;\n",
       "}\n",
       "#T_68919_row2_col4 {\n",
       "  background-color: #779af7;\n",
       "  color: #f1f1f1;\n",
       "}\n",
       "#T_68919_row3_col2 {\n",
       "  background-color: #8db0fe;\n",
       "  color: #000000;\n",
       "}\n",
       "#T_68919_row3_col5 {\n",
       "  background-color: #c7d7f0;\n",
       "  color: #000000;\n",
       "}\n",
       "#T_68919_row4_col1 {\n",
       "  background-color: #f3c8b2;\n",
       "  color: #000000;\n",
       "}\n",
       "#T_68919_row4_col2 {\n",
       "  background-color: #d5dbe5;\n",
       "  color: #000000;\n",
       "}\n",
       "#T_68919_row4_col3 {\n",
       "  background-color: #6282ea;\n",
       "  color: #f1f1f1;\n",
       "}\n",
       "#T_68919_row4_col5 {\n",
       "  background-color: #e6d7cf;\n",
       "  color: #000000;\n",
       "}\n",
       "#T_68919_row5_col0 {\n",
       "  background-color: #4f69d9;\n",
       "  color: #f1f1f1;\n",
       "}\n",
       "#T_68919_row5_col1 {\n",
       "  background-color: #7da0f9;\n",
       "  color: #f1f1f1;\n",
       "}\n",
       "#T_68919_row5_col3 {\n",
       "  background-color: #86a9fc;\n",
       "  color: #f1f1f1;\n",
       "}\n",
       "#T_68919_row5_col4 {\n",
       "  background-color: #9bbcff;\n",
       "  color: #000000;\n",
       "}\n",
       "</style>\n",
       "<table id=\"T_68919_\">\n",
       "  <thead>\n",
       "    <tr>\n",
       "      <th class=\"blank level0\" >&nbsp;</th>\n",
       "      <th class=\"col_heading level0 col0\" >revenue</th>\n",
       "      <th class=\"col_heading level0 col1\" >popularity</th>\n",
       "      <th class=\"col_heading level0 col2\" >budget</th>\n",
       "      <th class=\"col_heading level0 col3\" >runtime</th>\n",
       "      <th class=\"col_heading level0 col4\" >vote_count</th>\n",
       "      <th class=\"col_heading level0 col5\" >vote_average</th>\n",
       "    </tr>\n",
       "  </thead>\n",
       "  <tbody>\n",
       "    <tr>\n",
       "      <th id=\"T_68919_level0_row0\" class=\"row_heading level0 row0\" >revenue</th>\n",
       "      <td id=\"T_68919_row0_col0\" class=\"data row0 col0\" >1.000000</td>\n",
       "      <td id=\"T_68919_row0_col1\" class=\"data row0 col1\" >0.511673</td>\n",
       "      <td id=\"T_68919_row0_col2\" class=\"data row0 col2\" >0.557030</td>\n",
       "      <td id=\"T_68919_row0_col3\" class=\"data row0 col3\" >0.246599</td>\n",
       "      <td id=\"T_68919_row0_col4\" class=\"data row0 col4\" >0.676351</td>\n",
       "      <td id=\"T_68919_row0_col5\" class=\"data row0 col5\" >0.297338</td>\n",
       "    </tr>\n",
       "    <tr>\n",
       "      <th id=\"T_68919_level0_row1\" class=\"row_heading level0 row1\" >popularity</th>\n",
       "      <td id=\"T_68919_row1_col0\" class=\"data row1 col0\" >0.511673</td>\n",
       "      <td id=\"T_68919_row1_col1\" class=\"data row1 col1\" >1.000000</td>\n",
       "      <td id=\"T_68919_row1_col2\" class=\"data row1 col2\" >0.313969</td>\n",
       "      <td id=\"T_68919_row1_col3\" class=\"data row1 col3\" >0.221397</td>\n",
       "      <td id=\"T_68919_row1_col4\" class=\"data row1 col4\" >0.695962</td>\n",
       "      <td id=\"T_68919_row1_col5\" class=\"data row1 col5\" >0.380257</td>\n",
       "    </tr>\n",
       "    <tr>\n",
       "      <th id=\"T_68919_level0_row2\" class=\"row_heading level0 row2\" >budget</th>\n",
       "      <td id=\"T_68919_row2_col0\" class=\"data row2 col0\" >0.557030</td>\n",
       "      <td id=\"T_68919_row2_col1\" class=\"data row2 col1\" >0.313969</td>\n",
       "      <td id=\"T_68919_row2_col2\" class=\"data row2 col2\" >1.000000</td>\n",
       "      <td id=\"T_68919_row2_col3\" class=\"data row2 col3\" >0.222530</td>\n",
       "      <td id=\"T_68919_row2_col4\" class=\"data row2 col4\" >0.449175</td>\n",
       "      <td id=\"T_68919_row2_col5\" class=\"data row2 col5\" >-0.038839</td>\n",
       "    </tr>\n",
       "    <tr>\n",
       "      <th id=\"T_68919_level0_row3\" class=\"row_heading level0 row3\" >runtime</th>\n",
       "      <td id=\"T_68919_row3_col0\" class=\"data row3 col0\" >0.246599</td>\n",
       "      <td id=\"T_68919_row3_col1\" class=\"data row3 col1\" >0.221397</td>\n",
       "      <td id=\"T_68919_row3_col2\" class=\"data row3 col2\" >0.222530</td>\n",
       "      <td id=\"T_68919_row3_col3\" class=\"data row3 col3\" >1.000000</td>\n",
       "      <td id=\"T_68919_row3_col4\" class=\"data row3 col4\" >0.320553</td>\n",
       "      <td id=\"T_68919_row3_col5\" class=\"data row3 col5\" >0.401609</td>\n",
       "    </tr>\n",
       "    <tr>\n",
       "      <th id=\"T_68919_level0_row4\" class=\"row_heading level0 row4\" >vote_count</th>\n",
       "      <td id=\"T_68919_row4_col0\" class=\"data row4 col0\" >0.676351</td>\n",
       "      <td id=\"T_68919_row4_col1\" class=\"data row4 col1\" >0.695962</td>\n",
       "      <td id=\"T_68919_row4_col2\" class=\"data row4 col2\" >0.449175</td>\n",
       "      <td id=\"T_68919_row4_col3\" class=\"data row4 col3\" >0.320553</td>\n",
       "      <td id=\"T_68919_row4_col4\" class=\"data row4 col4\" >1.000000</td>\n",
       "      <td id=\"T_68919_row4_col5\" class=\"data row4 col5\" >0.517863</td>\n",
       "    </tr>\n",
       "    <tr>\n",
       "      <th id=\"T_68919_level0_row5\" class=\"row_heading level0 row5\" >vote_average</th>\n",
       "      <td id=\"T_68919_row5_col0\" class=\"data row5 col0\" >0.297338</td>\n",
       "      <td id=\"T_68919_row5_col1\" class=\"data row5 col1\" >0.380257</td>\n",
       "      <td id=\"T_68919_row5_col2\" class=\"data row5 col2\" >-0.038839</td>\n",
       "      <td id=\"T_68919_row5_col3\" class=\"data row5 col3\" >0.401609</td>\n",
       "      <td id=\"T_68919_row5_col4\" class=\"data row5 col4\" >0.517863</td>\n",
       "      <td id=\"T_68919_row5_col5\" class=\"data row5 col5\" >1.000000</td>\n",
       "    </tr>\n",
       "  </tbody>\n",
       "</table>\n"
      ],
      "text/plain": [
       "<pandas.io.formats.style.Styler at 0x20f8e0e2220>"
      ]
     },
     "execution_count": 36,
     "metadata": {},
     "output_type": "execute_result"
    }
   ],
   "source": [
    "# use correlation heatmap to see correlation between revenue and other columns\n",
    "corr = df_high_revenue[['revenue','popularity','budget','runtime','vote_count','vote_average']].corr()\n",
    "corr.style.background_gradient(cmap='coolwarm')"
   ]
  },
  {
   "cell_type": "markdown",
   "metadata": {},
   "source": [
    "> * From correlation map, can see that most of columns has positive correlation with revenue. \n",
    "> * Popularity, budget, vote_count has high correlation with revenue. Whilst vote_count has the highest correlation ~0.67.\n",
    "> * Runtime and vote average are less related to revenue."
   ]
  },
  {
   "cell_type": "markdown",
   "metadata": {},
   "source": [
    "<a id='conclusions'></a>\n",
    "## Conclusions\n",
    "_The analyzed dataset is small with only 3854 rows after cleaning, compare to the initial dataset with 10866 rows. These findings may not prepresent for the whole initial dataset._\n",
    "\n",
    "> * During 1960-2015, the most popularity genres change over year, but in some period, it remain the same. Animation, Fantasy and Adventure contribute to the most popularity genres chosen by voter.\n",
    "> \n",
    ">\n",
    "> * Highest revenue genres and highest vote genres also change over year, while some genres show the same continuously in 2000s and 2010s. Those highest revenue genres, accounted for the majority of proportion, are also the same as those most popularity genres. \n",
    "> * Whilst, less popularity genres Documentary and War, along with most popularity genre Animation,  contribute to most of percentage of the highest vote.\n",
    ">\n",
    ">\n",
    "> * The number of voter for movies released in 1960-2015 has an overall increase. While movies released in 1960s and 1980s are less interested by voter.\n",
    "> * Budget and revenue also increase from year to year. But, the trend of revenue somehow is the same as trend of vote count, revenue also slightly decrease in 1980s then rise over year later decade. Whilst, budget steadily increase in 1960s-2010s.\n",
    ">\n",
    ">\n",
    "> * Among movies has highest revenue, popularity, budget, vote_count has strong positive correlation with revenue and vote_count has the strongest correlation. "
   ]
  }
 ],
 "metadata": {
  "kernelspec": {
   "display_name": "Python 3 (ipykernel)",
   "language": "python",
   "name": "python3"
  },
  "language_info": {
   "codemirror_mode": {
    "name": "ipython",
    "version": 3
   },
   "file_extension": ".py",
   "mimetype": "text/x-python",
   "name": "python",
   "nbconvert_exporter": "python",
   "pygments_lexer": "ipython3",
   "version": "3.8.10"
  }
 },
 "nbformat": 4,
 "nbformat_minor": 2
}
